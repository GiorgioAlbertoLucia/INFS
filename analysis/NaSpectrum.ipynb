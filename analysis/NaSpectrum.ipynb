{
 "cells": [
  {
   "cell_type": "code",
   "execution_count": null,
   "metadata": {},
   "outputs": [],
   "source": [
    "from IPython.display import Latex\n",
    "\n",
    "import random\n",
    "import numpy as np\n",
    "import matplotlib.pyplot as plt\n",
    "import matplotlib.animation as animation\n",
    "import pandas as pd\n",
    "\n",
    "import math"
   ]
  },
  {
   "cell_type": "markdown",
   "metadata": {},
   "source": [
    "**Decadimento del Sodio**\n",
    "\n",
    "Si presenta un'acquisizione dati di una sorgente radioattiva di $^{22}$ Na, osservata posizionando la sorgente in una schermatura di piombo (per eliminare il fondo ambientale dall'acquisizione) e servendosi di un rivelatore a cristalli di NaI(Tl) - cristalli di ioduro di sodio drogati al tallio.\n",
    "\n",
    "Lo spettro di emissione osservato è quello del $^{22}$ Ne, formatosi in uno stato eccitato da un decadimento $\\beta^{+}$ del sodio e che, dunque, rilassa allo stato fondamentale con l'emissione di un fotone. Quest'ultimo è ciò che il rivelatore osserva: il picco relativo a tale fotone si trova alla posizione di energia E = 0.661 MeV. \n",
    "\n",
    "Poichè il fotone emesso può interagire con la materia (e dunque con il rivelatore) in molti modi diversi, si osserverà nello spettro qualcosa di diverso da un singolo picco, \"allargato\" dagli effetti di risoluzione dello strumento. \n",
    "\n",
    "\n"
   ]
  },
  {
   "cell_type": "markdown",
   "metadata": {},
   "source": [
    "**Composizione dello spettro osservato**\n",
    "\n",
    "Si elencano gli effetti osservati:\n",
    "\n",
    "-  Effetto fotoelettrico: un fotone che interagisca nel materiale con effetto fotoelettrico viene completamente assorbito, quindi il rivelatore segnalerà un conteggio nel picco ad energia corrisponente all'energia del fotone incidente;\n",
    "- Effetto Compton: un fotone che interagisca nel materiale tramite scattering Compton cede energia a un elettrone del materiale dipendente dall'angolo dio scattering (in generale saranno coperti pressoché uniformemente tutti gli angoli da $0 \\degree$ a $180 \\degree$). Quest'ultima è l'energia \"letta\" dal rivelatore, data dalla differenza tra l'energia del fotone incidente e quella del fotono dopo l'interazione. L'energia del fotone dopo lo scattering Compton è data da $$E' = \\frac{E}{1 + [1 - cos(\\theta)\\frac{E}{m_e c^2}]};$$\n",
    "- Effetto fotoelettrico nella schermatura in piombo: l'effetto è lo stesso descritto all'inizio nel materiale, i fotoni emessi dal rilassamento hanno energia $E = 0.074 MeV$. Gli eventi osservati per questo effetto saranno denotati come raggi X del piombo;\n",
    "- Effetto Compton nella schermatura in piombo: l'effetto è lo stesso descritto nel secondo punto. Si faccia attenzione al fatto che, però, il fotone rivelato è quello successivo all'interazione, descritto semplicemente dalla formula precedente. Tipicamente gli angoli per i quali l'effetto viene osservato è compreso tra $120 \\degree$ e $180 \\degree$. Gli eventi osservati per questo effetto comporrano il picco di backscatter.\n"
   ]
  },
  {
   "cell_type": "markdown",
   "metadata": {},
   "source": [
    "**Risoluzione dello strumento**\n",
    "\n",
    "Bisogna, a questo punto, tener conto degli effetti di risoluzione dello strumento. I valori veri osservati sono soggetti a fluttuazioni statistiche che possono essere rappresentate da un effetto di smearing gaussiano applicato ai valori osservati (o generati randomicamente). Nello specifico, ai valori generati verrà aggiunto un valore casuale preso da una distribuzione gaussiana individuata da \n",
    "- $\\mu = 0$\n",
    "- $\\sigma = \\frac{FWHM}{2.355}$\n",
    "\n",
    "La full width at half maximum (FWHM) è determinata a partire dalla sua relazione con la risoluzione dello strumento: $$R = \\frac{FWHM}{E}. $$\n",
    "Per la risoluzione dello strumento si utilizzerà, in un primo momento, un valore di risoluzione **R = 0.1**.\n"
   ]
  },
  {
   "cell_type": "markdown",
   "metadata": {},
   "source": [
    "**Acquisizione dello spettro**\n",
    "\n",
    "In questa parte si generano randomicamente valori dello spettro tenendo conto dei principali effetti osservati. Si fissano, prima di tutto, i valori di energia noti. Si passa, poi, a riempire una lista con eventi generati randomicamente.\n"
   ]
  },
  {
   "cell_type": "code",
   "execution_count": null,
   "metadata": {},
   "outputs": [],
   "source": [
    "E = 0.662           # MeV       gamma energy (from Na photoelectric effect)\n",
    "E_xrays = 0.074     # MeV       X-Rays emission from lead screen\n",
    "\n",
    "R = 0.1             # device resolution (is used to evaluate the gaussian smearing effects)\n",
    "\n",
    "E_true = []\n",
    "E_meas = []\n",
    "\n",
    "n = 500000          # number of cicles"
   ]
  },
  {
   "cell_type": "markdown",
   "metadata": {},
   "source": [
    "**Picco fotoelettrico**"
   ]
  },
  {
   "cell_type": "code",
   "execution_count": null,
   "metadata": {},
   "outputs": [],
   "source": [
    "for i in range(n):\n",
    "    E_true.append(E)\n",
    "    E_meas.append(E + random.gauss(0, E*R/2.355))"
   ]
  },
  {
   "cell_type": "markdown",
   "metadata": {},
   "source": [
    "**Effetto Compton**"
   ]
  },
  {
   "cell_type": "code",
   "execution_count": null,
   "metadata": {},
   "outputs": [],
   "source": [
    "def compton(E, theta):\n",
    "    \"\"\"\n",
    "    Thi function evaluates the energy of a photon involved in a Compton scattering interaction\n",
    "\n",
    "    E: energy of the incident photon [MeV]\n",
    "    theta: scattering angle [degrees]\n",
    "    \"\"\"\n",
    "    return E/(1 + (1-np.cos(math.radians(theta)))*(E/0.511) )\n",
    "\n",
    "\n",
    "for i in range(2*n):\n",
    "    compton_edge = E - compton(E, 180)\n",
    "    E_compton = compton_edge * random.uniform(0,1)\n",
    "\n",
    "    E_true.append(E_compton)\n",
    "    E_meas.append(E_compton + random.gauss(0, E_compton*R/2.355))"
   ]
  },
  {
   "cell_type": "markdown",
   "metadata": {},
   "source": [
    "**Raggi X del piombo**"
   ]
  },
  {
   "cell_type": "code",
   "execution_count": null,
   "metadata": {},
   "outputs": [],
   "source": [
    "for i in range(int(n/10)):\n",
    "    E_true.append(E_xrays)\n",
    "    E_meas.append(E_xrays + random.gauss(0, E_xrays*R/2.355))"
   ]
  },
  {
   "cell_type": "markdown",
   "metadata": {},
   "source": [
    "**Picco di backscatter**"
   ]
  },
  {
   "cell_type": "code",
   "execution_count": null,
   "metadata": {},
   "outputs": [],
   "source": [
    "for i in range(int(n/10)):\n",
    "    theta = 120 + 60 * random.uniform(0,1)\n",
    "    E_back = compton(E, theta)\n",
    "\n",
    "    E_true.append(E_back)\n",
    "    E_meas.append(E_back + random.gauss(0, E_back*R/2.355))\n",
    "\n",
    "len(E_meas)"
   ]
  },
  {
   "cell_type": "markdown",
   "metadata": {},
   "source": [
    "A questo punto, collezionati tutti i dati, è possibile visualizzarli in un semplice istogramma.\n",
    "Vengono visualizzati due istogrammi sovrapposti:\n",
    "- meas: istogramma che ricostruisce i dati osservati sperimentalmente, affetti da errori legati alla risoluzione dello strumento\n",
    "- true: valori attesi dalle considerazioni teoriche a monte"
   ]
  },
  {
   "cell_type": "code",
   "execution_count": null,
   "metadata": {},
   "outputs": [],
   "source": [
    "bins = np.linspace(math.floor(min(E_meas)), math.ceil(max(E_meas)), 1200)\n",
    "\n",
    "fig1, ax1 = plt.subplots()\n",
    "\n",
    "ax1.set_xlim([min(E_meas)-0.01, max(E_meas)+0.01])\n",
    "ax1.set_ylim(top=10000)\n",
    "\n",
    "ax1.hist(E_meas, bins=bins, alpha=0.5, label='meas')\n",
    "ax1.hist(E_true, bins=bins, alpha=0.5, label='true')\n",
    "plt.legend(loc='upper right')\n",
    "ax1.set_xlabel('E [MeV]')\n",
    "ax1.set_ylabel('counts')\n",
    "\n",
    "plt.show()"
   ]
  },
  {
   "cell_type": "code",
   "execution_count": null,
   "metadata": {},
   "outputs": [],
   "source": [
    "%matplotlib ipympl\n",
    "\n",
    "live1 = E_meas\n",
    "live2 = E_true\n",
    "\n",
    "random.shuffle(live1)\n",
    "random.shuffle(live2)\n",
    "\n",
    "def update(curr):\n",
    "    ax.clear()\n",
    "    ax.hist(live1[:curr], bins=bins)\n",
    "    ax.set_title('n={}'.format(curr))\n",
    "\n",
    "fig, ax = plt.subplots()\n",
    "ax.set_xlim([min(E_meas)-0.01, max(E_meas)+0.01])\n",
    "ax.set_title('Na spectrum')\n",
    "ax.set_xlabel('E [MeV]')\n",
    "ax.set_ylabel('counts')\n",
    "\n",
    "a = animation.FuncAnimation(fig, update, frames=np.arange(0, len(live1), 5000), interval=40, repeat=False, blit=False)\n",
    "\n",
    "plt.show()"
   ]
  },
  {
   "cell_type": "markdown",
   "metadata": {},
   "source": [
    "A questo punto, prendendo i dati a disposizione, si può provare a rappresentare graficamente lo spettro effettivamente osservato in laboratorio.\n"
   ]
  },
  {
   "cell_type": "code",
   "execution_count": null,
   "metadata": {},
   "outputs": [],
   "source": [
    "data_path = \"../data_ascii/spectrum_Na22.txt\"\n",
    "data = pd.read_csv(data_path)\n",
    "\n",
    "data.columns\n",
    "data.Data.sum()\n"
   ]
  },
  {
   "cell_type": "code",
   "execution_count": null,
   "metadata": {},
   "outputs": [],
   "source": [
    "bins = np.linspace(math.floor(min(data.Channel)), math.ceil(max(data.Channel)), 1200)\n",
    "\n",
    "fig2, ax2 = plt.subplots()\n",
    "\n",
    "ax2.set_xlim([min(data.Channel)-1, max(data.Channel)+1])\n",
    "ax2.set_ylim(top=1000)\n",
    "\n",
    "ax2.hist(data.Channel, weights=data.Data, bins=bins, alpha=0.5, label='exp')\n",
    "ax2.set_xlabel('channel [CHN]')\n",
    "ax2.set_ylabel('counts')\n",
    "\n",
    "plt.show()"
   ]
  },
  {
   "cell_type": "markdown",
   "metadata": {},
   "source": [
    "È evidente che, tuttavia, l'istogramma creato a partire dai dati sperimentali, direttamente caricati dall'analizzatore multicanale, categorizzi i dati in un'unità particolare (canali), anziché nelle consuete energie, già adoperate per gli istogrammi precedenti. Questo può essere risolto tramite una conversione dei valori in canali in valori in energia. Si osservi che questo è stato fatto in laboratorio tramite la calibrazione dell'analizzatore multicanale. La relazione tra valore in canali C ed energie E trovata è $$E = \\alpha + \\beta C + \\gamma C^2,$$ con \n",
    "- $\\alpha = (−1.51 \\pm 0.15)\\cdot 10^{-2} MeV$\n",
    "- $\\beta = (16.60 \\pm 0.08)\\cdot 10^{-4} MeV \\cdot CHN^{-1}$\n",
    "- $\\gamma = (4.1 \\pm 0.8)\\cdot 10^{-8} MeV \\cdot CHN^{-2}$\n",
    "\n",
    "Si convertano i valori in canali segnati dal dispositivo in energie tramite la relazione proposta."
   ]
  },
  {
   "cell_type": "code",
   "execution_count": null,
   "metadata": {},
   "outputs": [],
   "source": [
    "alpha = -1.51e-2\n",
    "beta = 16.6e-4\n",
    "gamma = 4.1e-8\n",
    "\n",
    "a = []\n",
    "for i in range(len(data.Channel)):\n",
    "    a.append(alpha)\n",
    "E_data = a + beta * data.Channel + gamma * data.Channel * data.Channel\n",
    "\n",
    "E_data.head()"
   ]
  },
  {
   "cell_type": "code",
   "execution_count": null,
   "metadata": {},
   "outputs": [],
   "source": [
    "bins = np.linspace(math.floor(min(E_data)), math.ceil(max(E_data)), 1200)\n",
    "\n",
    "fig3, ax3 = plt.subplots()\n",
    "\n",
    "ax3.set_xlim([min(E_data)-0.01, max(E_data)+0.01])\n",
    "ax3.set_ylim(top=1500)\n",
    "\n",
    "ax3.hist(E_data, weights=data.Data, bins=bins, alpha=0.5, label='exp')\n",
    "ax3.legend(loc='upper right')\n",
    "ax3.set_xlabel('E [MeV]')\n",
    "ax3.set_ylabel('counts')\n",
    "\n",
    "plt.show()"
   ]
  },
  {
   "cell_type": "code",
   "execution_count": null,
   "metadata": {},
   "outputs": [],
   "source": []
  }
 ],
 "metadata": {
  "kernelspec": {
   "display_name": "Python 3.9.0 64-bit",
   "language": "python",
   "name": "python3"
  },
  "language_info": {
   "codemirror_mode": {
    "name": "ipython",
    "version": 3
   },
   "file_extension": ".py",
   "mimetype": "text/x-python",
   "name": "python",
   "nbconvert_exporter": "python",
   "pygments_lexer": "ipython3",
   "version": "3.9.0"
  },
  "orig_nbformat": 4,
  "vscode": {
   "interpreter": {
    "hash": "aee8b7b246df8f9039afb4144a1f6fd8d2ca17a180786b69acc140d282b71a49"
   }
  }
 },
 "nbformat": 4,
 "nbformat_minor": 2
}
